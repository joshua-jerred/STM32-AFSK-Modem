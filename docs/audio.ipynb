{
 "cells": [
  {
   "cell_type": "code",
   "execution_count": 19,
   "metadata": {},
   "outputs": [
    {
     "name": "stdout",
     "output_type": "stream",
     "text": [
      "Samples per bit: 40.0\n",
      "Wave Cycles per bit (mark): 1.0\n",
      "Wave Cycles per bit (space): 1.8333333333333333\n",
      "Samples per wave cycle (mark): 40.0\n",
      "Samples per wave cycle (space): 21.818181818181817\n"
     ]
    }
   ],
   "source": [
    "AFSK_BAUD_RATE = 1200 # bits per second\n",
    "MARK_FREQ = 1200      # Hz\n",
    "SPACE_FREQ = 2200     # Hz\n",
    "AUDIO_SAMPLE_RATE = 48000 # Hz\n",
    "\n",
    "samples_per_bit = AUDIO_SAMPLE_RATE / AFSK_BAUD_RATE\n",
    "wave_cycles_per_bit_mark = MARK_FREQ / AFSK_BAUD_RATE\n",
    "wave_cycles_per_bit_space = SPACE_FREQ / AFSK_BAUD_RATE\n",
    "samples_per_wave_cycle_mark = AUDIO_SAMPLE_RATE / MARK_FREQ\n",
    "samples_per_wave_cycle_space = AUDIO_SAMPLE_RATE / SPACE_FREQ\n",
    "\n",
    "print(f'Samples per bit: {samples_per_bit}')\n",
    "print(f'Wave Cycles per bit (mark): {wave_cycles_per_bit_mark}')\n",
    "print(f'Wave Cycles per bit (space): {wave_cycles_per_bit_space}')\n",
    "print(f'Samples per wave cycle (mark): {samples_per_wave_cycle_mark}')\n",
    "print(f'Samples per wave cycle (space): {samples_per_wave_cycle_space}')\n"
   ]
  }
 ],
 "metadata": {
  "kernelspec": {
   "display_name": "Python 3",
   "language": "python",
   "name": "python3"
  },
  "language_info": {
   "codemirror_mode": {
    "name": "ipython",
    "version": 3
   },
   "file_extension": ".py",
   "mimetype": "text/x-python",
   "name": "python",
   "nbconvert_exporter": "python",
   "pygments_lexer": "ipython3",
   "version": "3.10.12"
  },
  "orig_nbformat": 4
 },
 "nbformat": 4,
 "nbformat_minor": 2
}
